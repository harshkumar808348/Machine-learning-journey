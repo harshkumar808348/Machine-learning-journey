{
 "cells": [
  {
   "cell_type": "code",
   "execution_count": 23,
   "id": "31dade32",
   "metadata": {},
   "outputs": [],
   "source": [
    "import numpy as np\n",
    "from sklearn.linear_model import LinearRegression\n",
    "from sklearn.preprocessing import PolynomialFeatures\n",
    "\n",
    "def polynomial_regression(X, y, degree, X_predict=None):\n",
    "    poly_features = PolynomialFeatures(degree=degree)\n",
    "    X_poly = poly_features.fit_transform(X)\n",
    "    model = LinearRegression()\n",
    "    model.fit(X_poly, y)\n",
    "    y_pred = model.predict(poly_features.transform(X_predict)) if X_predict is not None else None\n",
    "    return model, poly_features, y_pred\n"
   ]
  },
  {
   "cell_type": "code",
   "execution_count": 25,
   "id": "15f0f68e",
   "metadata": {},
   "outputs": [],
   "source": [
    "X = np.array([[1], [2], [3]])\n",
    " "
   ]
  },
  {
   "cell_type": "code",
   "execution_count": 26,
   "id": "f3c19c94",
   "metadata": {},
   "outputs": [],
   "source": [
    "y = np.array([2, 3, 5])\n"
   ]
  },
  {
   "cell_type": "code",
   "execution_count": 27,
   "id": "797201f7",
   "metadata": {},
   "outputs": [],
   "source": [
    "degree = 2\n"
   ]
  },
  {
   "cell_type": "code",
   "execution_count": 28,
   "id": "d2d2cea0",
   "metadata": {},
   "outputs": [],
   "source": [
    "X_predict = np.array([[4], [5]])\n"
   ]
  },
  {
   "cell_type": "code",
   "execution_count": 31,
   "id": "652777e5",
   "metadata": {},
   "outputs": [],
   "source": [
    " model, poly_features, y_pred= polynomial_regression(X, y, degree, X_predict)"
   ]
  },
  {
   "cell_type": "code",
   "execution_count": 32,
   "id": "10edce76",
   "metadata": {},
   "outputs": [
    {
     "name": "stdout",
     "output_type": "stream",
     "text": [
      "[ 8. 12.]\n"
     ]
    }
   ],
   "source": [
    "print(y_pred)\n"
   ]
  },
  {
   "cell_type": "code",
   "execution_count": 33,
   "id": "f360c091",
   "metadata": {},
   "outputs": [],
   "source": [
    "X_predict = np.array([[6], [7]])\n"
   ]
  },
  {
   "cell_type": "code",
   "execution_count": 35,
   "id": "8cd401ed",
   "metadata": {},
   "outputs": [
    {
     "name": "stdout",
     "output_type": "stream",
     "text": [
      "[ 8. 12.]\n"
     ]
    }
   ],
   "source": [
    "print(y_pred)"
   ]
  },
  {
   "cell_type": "code",
   "execution_count": null,
   "id": "37cd124d",
   "metadata": {},
   "outputs": [],
   "source": []
  }
 ],
 "metadata": {
  "kernelspec": {
   "display_name": "Python 3 (ipykernel)",
   "language": "python",
   "name": "python3"
  },
  "language_info": {
   "codemirror_mode": {
    "name": "ipython",
    "version": 3
   },
   "file_extension": ".py",
   "mimetype": "text/x-python",
   "name": "python",
   "nbconvert_exporter": "python",
   "pygments_lexer": "ipython3",
   "version": "3.10.9"
  }
 },
 "nbformat": 4,
 "nbformat_minor": 5
}
