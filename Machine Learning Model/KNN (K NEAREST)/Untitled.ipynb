{
 "cells": [
  {
   "cell_type": "code",
   "execution_count": 78,
   "id": "6f651243",
   "metadata": {},
   "outputs": [],
   "source": [
    "import pandas as pd\n",
    "import numpy as np\n",
    "from sklearn.model_selection import train_test_split\n",
    "from sklearn.preprocessing import StandardScaler\n",
    "from sklearn.neighbors import KNeighborsClassifier\n",
    "from sklearn.metrics import accuracy_score , classification_report , confusion_matrix \n"
   ]
  },
  {
   "cell_type": "code",
   "execution_count": 79,
   "id": "54b50d02",
   "metadata": {},
   "outputs": [],
   "source": [
    "data = pd.read_csv('movie.csv')\n"
   ]
  },
  {
   "cell_type": "code",
   "execution_count": 80,
   "id": "08d465eb",
   "metadata": {},
   "outputs": [
    {
     "data": {
      "text/html": [
       "<div>\n",
       "<style scoped>\n",
       "    .dataframe tbody tr th:only-of-type {\n",
       "        vertical-align: middle;\n",
       "    }\n",
       "\n",
       "    .dataframe tbody tr th {\n",
       "        vertical-align: top;\n",
       "    }\n",
       "\n",
       "    .dataframe thead th {\n",
       "        text-align: right;\n",
       "    }\n",
       "</style>\n",
       "<table border=\"1\" class=\"dataframe\">\n",
       "  <thead>\n",
       "    <tr style=\"text-align: right;\">\n",
       "      <th></th>\n",
       "      <th>Poster_Link</th>\n",
       "      <th>Series_Title</th>\n",
       "      <th>Released_Year</th>\n",
       "      <th>Certificate</th>\n",
       "      <th>Runtime</th>\n",
       "      <th>Genre</th>\n",
       "      <th>IMDB_Rating</th>\n",
       "      <th>Overview</th>\n",
       "      <th>Meta_score</th>\n",
       "      <th>Director</th>\n",
       "      <th>Star1</th>\n",
       "      <th>Star2</th>\n",
       "      <th>Star3</th>\n",
       "      <th>Star4</th>\n",
       "      <th>No_of_Votes</th>\n",
       "      <th>Gross</th>\n",
       "    </tr>\n",
       "  </thead>\n",
       "  <tbody>\n",
       "    <tr>\n",
       "      <th>0</th>\n",
       "      <td>https://m.media-amazon.com/images/M/MV5BMDFkYT...</td>\n",
       "      <td>The Shawshank Redemption</td>\n",
       "      <td>1994</td>\n",
       "      <td>A</td>\n",
       "      <td>142 min</td>\n",
       "      <td>Drama</td>\n",
       "      <td>9.3</td>\n",
       "      <td>Two imprisoned men bond over a number of years...</td>\n",
       "      <td>80.0</td>\n",
       "      <td>Frank Darabont</td>\n",
       "      <td>Tim Robbins</td>\n",
       "      <td>Morgan Freeman</td>\n",
       "      <td>Bob Gunton</td>\n",
       "      <td>William Sadler</td>\n",
       "      <td>2343110</td>\n",
       "      <td>28,341,469</td>\n",
       "    </tr>\n",
       "    <tr>\n",
       "      <th>1</th>\n",
       "      <td>https://m.media-amazon.com/images/M/MV5BM2MyNj...</td>\n",
       "      <td>The Godfather</td>\n",
       "      <td>1972</td>\n",
       "      <td>A</td>\n",
       "      <td>175 min</td>\n",
       "      <td>Crime, Drama</td>\n",
       "      <td>9.2</td>\n",
       "      <td>An organized crime dynasty's aging patriarch t...</td>\n",
       "      <td>100.0</td>\n",
       "      <td>Francis Ford Coppola</td>\n",
       "      <td>Marlon Brando</td>\n",
       "      <td>Al Pacino</td>\n",
       "      <td>James Caan</td>\n",
       "      <td>Diane Keaton</td>\n",
       "      <td>1620367</td>\n",
       "      <td>134,966,411</td>\n",
       "    </tr>\n",
       "    <tr>\n",
       "      <th>2</th>\n",
       "      <td>https://m.media-amazon.com/images/M/MV5BMTMxNT...</td>\n",
       "      <td>The Dark Knight</td>\n",
       "      <td>2008</td>\n",
       "      <td>UA</td>\n",
       "      <td>152 min</td>\n",
       "      <td>Action, Crime, Drama</td>\n",
       "      <td>9.0</td>\n",
       "      <td>When the menace known as the Joker wreaks havo...</td>\n",
       "      <td>84.0</td>\n",
       "      <td>Christopher Nolan</td>\n",
       "      <td>Christian Bale</td>\n",
       "      <td>Heath Ledger</td>\n",
       "      <td>Aaron Eckhart</td>\n",
       "      <td>Michael Caine</td>\n",
       "      <td>2303232</td>\n",
       "      <td>534,858,444</td>\n",
       "    </tr>\n",
       "    <tr>\n",
       "      <th>3</th>\n",
       "      <td>https://m.media-amazon.com/images/M/MV5BMWMwMG...</td>\n",
       "      <td>The Godfather: Part II</td>\n",
       "      <td>1974</td>\n",
       "      <td>A</td>\n",
       "      <td>202 min</td>\n",
       "      <td>Crime, Drama</td>\n",
       "      <td>9.0</td>\n",
       "      <td>The early life and career of Vito Corleone in ...</td>\n",
       "      <td>90.0</td>\n",
       "      <td>Francis Ford Coppola</td>\n",
       "      <td>Al Pacino</td>\n",
       "      <td>Robert De Niro</td>\n",
       "      <td>Robert Duvall</td>\n",
       "      <td>Diane Keaton</td>\n",
       "      <td>1129952</td>\n",
       "      <td>57,300,000</td>\n",
       "    </tr>\n",
       "    <tr>\n",
       "      <th>4</th>\n",
       "      <td>https://m.media-amazon.com/images/M/MV5BMWU4N2...</td>\n",
       "      <td>12 Angry Men</td>\n",
       "      <td>1957</td>\n",
       "      <td>U</td>\n",
       "      <td>96 min</td>\n",
       "      <td>Crime, Drama</td>\n",
       "      <td>9.0</td>\n",
       "      <td>A jury holdout attempts to prevent a miscarria...</td>\n",
       "      <td>96.0</td>\n",
       "      <td>Sidney Lumet</td>\n",
       "      <td>Henry Fonda</td>\n",
       "      <td>Lee J. Cobb</td>\n",
       "      <td>Martin Balsam</td>\n",
       "      <td>John Fiedler</td>\n",
       "      <td>689845</td>\n",
       "      <td>4,360,000</td>\n",
       "    </tr>\n",
       "  </tbody>\n",
       "</table>\n",
       "</div>"
      ],
      "text/plain": [
       "                                         Poster_Link  \\\n",
       "0  https://m.media-amazon.com/images/M/MV5BMDFkYT...   \n",
       "1  https://m.media-amazon.com/images/M/MV5BM2MyNj...   \n",
       "2  https://m.media-amazon.com/images/M/MV5BMTMxNT...   \n",
       "3  https://m.media-amazon.com/images/M/MV5BMWMwMG...   \n",
       "4  https://m.media-amazon.com/images/M/MV5BMWU4N2...   \n",
       "\n",
       "               Series_Title Released_Year Certificate  Runtime  \\\n",
       "0  The Shawshank Redemption          1994           A  142 min   \n",
       "1             The Godfather          1972           A  175 min   \n",
       "2           The Dark Knight          2008          UA  152 min   \n",
       "3    The Godfather: Part II          1974           A  202 min   \n",
       "4              12 Angry Men          1957           U   96 min   \n",
       "\n",
       "                  Genre  IMDB_Rating  \\\n",
       "0                 Drama          9.3   \n",
       "1          Crime, Drama          9.2   \n",
       "2  Action, Crime, Drama          9.0   \n",
       "3          Crime, Drama          9.0   \n",
       "4          Crime, Drama          9.0   \n",
       "\n",
       "                                            Overview  Meta_score  \\\n",
       "0  Two imprisoned men bond over a number of years...        80.0   \n",
       "1  An organized crime dynasty's aging patriarch t...       100.0   \n",
       "2  When the menace known as the Joker wreaks havo...        84.0   \n",
       "3  The early life and career of Vito Corleone in ...        90.0   \n",
       "4  A jury holdout attempts to prevent a miscarria...        96.0   \n",
       "\n",
       "               Director           Star1           Star2          Star3  \\\n",
       "0        Frank Darabont     Tim Robbins  Morgan Freeman     Bob Gunton   \n",
       "1  Francis Ford Coppola   Marlon Brando       Al Pacino     James Caan   \n",
       "2     Christopher Nolan  Christian Bale    Heath Ledger  Aaron Eckhart   \n",
       "3  Francis Ford Coppola       Al Pacino  Robert De Niro  Robert Duvall   \n",
       "4          Sidney Lumet     Henry Fonda     Lee J. Cobb  Martin Balsam   \n",
       "\n",
       "            Star4  No_of_Votes        Gross  \n",
       "0  William Sadler      2343110   28,341,469  \n",
       "1    Diane Keaton      1620367  134,966,411  \n",
       "2   Michael Caine      2303232  534,858,444  \n",
       "3    Diane Keaton      1129952   57,300,000  \n",
       "4    John Fiedler       689845    4,360,000  "
      ]
     },
     "execution_count": 80,
     "metadata": {},
     "output_type": "execute_result"
    }
   ],
   "source": [
    "data.head()"
   ]
  },
  {
   "cell_type": "code",
   "execution_count": 81,
   "id": "d68a672a",
   "metadata": {},
   "outputs": [],
   "source": [
    "#select the data "
   ]
  },
  {
   "cell_type": "code",
   "execution_count": 82,
   "id": "2672e5a9",
   "metadata": {},
   "outputs": [],
   "source": [
    "data = data[['IMDB_Rating' , 'Runtime' , 'Genre']]"
   ]
  },
  {
   "cell_type": "code",
   "execution_count": 83,
   "id": "9583f35e",
   "metadata": {},
   "outputs": [
    {
     "data": {
      "text/html": [
       "<div>\n",
       "<style scoped>\n",
       "    .dataframe tbody tr th:only-of-type {\n",
       "        vertical-align: middle;\n",
       "    }\n",
       "\n",
       "    .dataframe tbody tr th {\n",
       "        vertical-align: top;\n",
       "    }\n",
       "\n",
       "    .dataframe thead th {\n",
       "        text-align: right;\n",
       "    }\n",
       "</style>\n",
       "<table border=\"1\" class=\"dataframe\">\n",
       "  <thead>\n",
       "    <tr style=\"text-align: right;\">\n",
       "      <th></th>\n",
       "      <th>IMDB_Rating</th>\n",
       "      <th>Runtime</th>\n",
       "      <th>Genre</th>\n",
       "    </tr>\n",
       "  </thead>\n",
       "  <tbody>\n",
       "    <tr>\n",
       "      <th>0</th>\n",
       "      <td>9.3</td>\n",
       "      <td>142 min</td>\n",
       "      <td>Drama</td>\n",
       "    </tr>\n",
       "    <tr>\n",
       "      <th>1</th>\n",
       "      <td>9.2</td>\n",
       "      <td>175 min</td>\n",
       "      <td>Crime, Drama</td>\n",
       "    </tr>\n",
       "    <tr>\n",
       "      <th>2</th>\n",
       "      <td>9.0</td>\n",
       "      <td>152 min</td>\n",
       "      <td>Action, Crime, Drama</td>\n",
       "    </tr>\n",
       "    <tr>\n",
       "      <th>3</th>\n",
       "      <td>9.0</td>\n",
       "      <td>202 min</td>\n",
       "      <td>Crime, Drama</td>\n",
       "    </tr>\n",
       "    <tr>\n",
       "      <th>4</th>\n",
       "      <td>9.0</td>\n",
       "      <td>96 min</td>\n",
       "      <td>Crime, Drama</td>\n",
       "    </tr>\n",
       "  </tbody>\n",
       "</table>\n",
       "</div>"
      ],
      "text/plain": [
       "   IMDB_Rating  Runtime                 Genre\n",
       "0          9.3  142 min                 Drama\n",
       "1          9.2  175 min          Crime, Drama\n",
       "2          9.0  152 min  Action, Crime, Drama\n",
       "3          9.0  202 min          Crime, Drama\n",
       "4          9.0   96 min          Crime, Drama"
      ]
     },
     "execution_count": 83,
     "metadata": {},
     "output_type": "execute_result"
    }
   ],
   "source": [
    "data.head()"
   ]
  },
  {
   "cell_type": "code",
   "execution_count": 84,
   "id": "84dfd2d6",
   "metadata": {},
   "outputs": [],
   "source": [
    "data['Runtime'] = data['Runtime'].astype(str)"
   ]
  },
  {
   "cell_type": "code",
   "execution_count": 85,
   "id": "84ebcc56",
   "metadata": {},
   "outputs": [],
   "source": [
    "data['Runtime'] = data['Runtime'].str.extract(r'(\\d+)').astype(float)"
   ]
  },
  {
   "cell_type": "code",
   "execution_count": 86,
   "id": "3915517b",
   "metadata": {},
   "outputs": [],
   "source": [
    "data = data.dropna(subset=['Runtime'])"
   ]
  },
  {
   "cell_type": "code",
   "execution_count": 87,
   "id": "388cfa05",
   "metadata": {},
   "outputs": [],
   "source": [
    "data = data.dropna(subset=['Runtime'])"
   ]
  },
  {
   "cell_type": "code",
   "execution_count": null,
   "id": "c5d60a84",
   "metadata": {},
   "outputs": [],
   "source": [
    "# ye upar ka char line jo hai 121 min string hai usko hamlog 121.00  me convert kiya hao"
   ]
  },
  {
   "cell_type": "code",
   "execution_count": 88,
   "id": "249fbbc6",
   "metadata": {},
   "outputs": [
    {
     "data": {
      "text/plain": [
       "0    142.0\n",
       "1    175.0\n",
       "2    152.0\n",
       "3    202.0\n",
       "4     96.0\n",
       "Name: Runtime, dtype: float64"
      ]
     },
     "execution_count": 88,
     "metadata": {},
     "output_type": "execute_result"
    }
   ],
   "source": [
    "data['Runtime'].head()"
   ]
  },
  {
   "cell_type": "code",
   "execution_count": 89,
   "id": "c2e65141",
   "metadata": {},
   "outputs": [
    {
     "data": {
      "text/plain": [
       "IMDB_Rating    0\n",
       "Runtime        0\n",
       "Genre          0\n",
       "dtype: int64"
      ]
     },
     "execution_count": 89,
     "metadata": {},
     "output_type": "execute_result"
    }
   ],
   "source": [
    "data.isnull().sum()"
   ]
  },
  {
   "cell_type": "code",
   "execution_count": 90,
   "id": "1696ec3b",
   "metadata": {},
   "outputs": [],
   "source": [
    "data = data.dropna()"
   ]
  },
  {
   "cell_type": "code",
   "execution_count": 91,
   "id": "ee27014e",
   "metadata": {},
   "outputs": [
    {
     "data": {
      "text/plain": [
       "IMDB_Rating    0\n",
       "Runtime        0\n",
       "Genre          0\n",
       "dtype: int64"
      ]
     },
     "execution_count": 91,
     "metadata": {},
     "output_type": "execute_result"
    }
   ],
   "source": [
    "data.isnull().sum()"
   ]
  },
  {
   "cell_type": "code",
   "execution_count": 92,
   "id": "2e962c8c",
   "metadata": {},
   "outputs": [],
   "source": [
    "from sklearn.preprocessing import LabelEncoder\n"
   ]
  },
  {
   "cell_type": "code",
   "execution_count": 93,
   "id": "0de43d51",
   "metadata": {},
   "outputs": [],
   "source": [
    "label_encoder = LabelEncoder()"
   ]
  },
  {
   "cell_type": "code",
   "execution_count": 94,
   "id": "74cae164",
   "metadata": {},
   "outputs": [],
   "source": [
    "data['Genre'] = label_encoder.fit_transform(data['Genre'])"
   ]
  },
  {
   "cell_type": "code",
   "execution_count": 95,
   "id": "942591c5",
   "metadata": {},
   "outputs": [],
   "source": [
    "genre_mapping = dict(zip(label_encoder.classes_, label_encoder.transform(label_encoder.classes_)))"
   ]
  },
  {
   "cell_type": "code",
   "execution_count": 96,
   "id": "cd61d5d7",
   "metadata": {},
   "outputs": [
    {
     "name": "stdout",
     "output_type": "stream",
     "text": [
      "Genre Mapping: {'Action, Adventure': 0, 'Action, Adventure, Biography': 1, 'Action, Adventure, Comedy': 2, 'Action, Adventure, Crime': 3, 'Action, Adventure, Drama': 4, 'Action, Adventure, Family': 5, 'Action, Adventure, Fantasy': 6, 'Action, Adventure, History': 7, 'Action, Adventure, Horror': 8, 'Action, Adventure, Mystery': 9, 'Action, Adventure, Romance': 10, 'Action, Adventure, Sci-Fi': 11, 'Action, Adventure, Thriller': 12, 'Action, Adventure, War': 13, 'Action, Adventure, Western': 14, 'Action, Biography, Crime': 15, 'Action, Biography, Drama': 16, 'Action, Comedy, Crime': 17, 'Action, Comedy, Fantasy': 18, 'Action, Comedy, Mystery': 19, 'Action, Comedy, Romance': 20, 'Action, Crime, Comedy': 21, 'Action, Crime, Drama': 22, 'Action, Crime, Mystery': 23, 'Action, Crime, Thriller': 24, 'Action, Drama': 25, 'Action, Drama, History': 26, 'Action, Drama, Mystery': 27, 'Action, Drama, Sci-Fi': 28, 'Action, Drama, Sport': 29, 'Action, Drama, Thriller': 30, 'Action, Drama, War': 31, 'Action, Drama, Western': 32, 'Action, Mystery, Thriller': 33, 'Action, Sci-Fi': 34, 'Action, Sci-Fi, Thriller': 35, 'Action, Thriller': 36, 'Adventure, Biography, Crime': 37, 'Adventure, Biography, Drama': 38, 'Adventure, Comedy, Crime': 39, 'Adventure, Comedy, Drama': 40, 'Adventure, Comedy, Family': 41, 'Adventure, Comedy, Fantasy': 42, 'Adventure, Comedy, Film-Noir': 43, 'Adventure, Comedy, Sci-Fi': 44, 'Adventure, Comedy, War': 45, 'Adventure, Drama': 46, 'Adventure, Drama, Fantasy': 47, 'Adventure, Drama, History': 48, 'Adventure, Drama, Musical': 49, 'Adventure, Drama, Romance': 50, 'Adventure, Drama, Sci-Fi': 51, 'Adventure, Drama, Thriller': 52, 'Adventure, Drama, War': 53, 'Adventure, Drama, Western': 54, 'Adventure, Family, Fantasy': 55, 'Adventure, Fantasy': 56, 'Adventure, History, War': 57, 'Adventure, Horror, Sci-Fi': 58, 'Adventure, Mystery, Thriller': 59, 'Adventure, Sci-Fi': 60, 'Adventure, Thriller': 61, 'Animation, Action, Adventure': 62, 'Animation, Action, Crime': 63, 'Animation, Action, Drama': 64, 'Animation, Action, Fantasy': 65, 'Animation, Action, Sci-Fi': 66, 'Animation, Adventure, Comedy': 67, 'Animation, Adventure, Drama': 68, 'Animation, Adventure, Family': 69, 'Animation, Adventure, Fantasy': 70, 'Animation, Biography, Crime': 71, 'Animation, Biography, Drama': 72, 'Animation, Comedy, Crime': 73, 'Animation, Comedy, Drama': 74, 'Animation, Comedy, Fantasy': 75, 'Animation, Crime, Mystery': 76, 'Animation, Drama, Family': 77, 'Animation, Drama, Fantasy': 78, 'Animation, Drama, Romance': 79, 'Animation, Drama, War': 80, 'Animation, Family, Fantasy': 81, 'Animation, Sci-Fi': 82, 'Biography, Comedy, Drama': 83, 'Biography, Crime, Drama': 84, 'Biography, Drama': 85, 'Biography, Drama, Family': 86, 'Biography, Drama, History': 87, 'Biography, Drama, Music': 88, 'Biography, Drama, Romance': 89, 'Biography, Drama, Sport': 90, 'Biography, Drama, Thriller': 91, 'Biography, Drama, War': 92, 'Comedy': 93, 'Comedy, Crime': 94, 'Comedy, Crime, Drama': 95, 'Comedy, Crime, Mystery': 96, 'Comedy, Crime, Romance': 97, 'Comedy, Crime, Sport': 98, 'Comedy, Crime, Thriller': 99, 'Comedy, Drama': 100, 'Comedy, Drama, Family': 101, 'Comedy, Drama, Fantasy': 102, 'Comedy, Drama, Music': 103, 'Comedy, Drama, Musical': 104, 'Comedy, Drama, Romance': 105, 'Comedy, Drama, Thriller': 106, 'Comedy, Drama, War': 107, 'Comedy, Family': 108, 'Comedy, Family, Fantasy': 109, 'Comedy, Family, Romance': 110, 'Comedy, Fantasy, Romance': 111, 'Comedy, Horror': 112, 'Comedy, Music': 113, 'Comedy, Music, Musical': 114, 'Comedy, Music, Romance': 115, 'Comedy, Musical, Romance': 116, 'Comedy, Musical, War': 117, 'Comedy, Mystery, Romance': 118, 'Comedy, Romance': 119, 'Comedy, War': 120, 'Comedy, Western': 121, 'Crime, Drama': 122, 'Crime, Drama, Fantasy': 123, 'Crime, Drama, Film-Noir': 124, 'Crime, Drama, History': 125, 'Crime, Drama, Horror': 126, 'Crime, Drama, Music': 127, 'Crime, Drama, Musical': 128, 'Crime, Drama, Mystery': 129, 'Crime, Drama, Romance': 130, 'Crime, Drama, Sci-Fi': 131, 'Crime, Drama, Thriller': 132, 'Crime, Film-Noir, Mystery': 133, 'Crime, Film-Noir, Thriller': 134, 'Crime, Mystery, Thriller': 135, 'Crime, Thriller': 136, 'Drama': 137, 'Drama, Family': 138, 'Drama, Family, Fantasy': 139, 'Drama, Family, Musical': 140, 'Drama, Family, Sport': 141, 'Drama, Fantasy': 142, 'Drama, Fantasy, History': 143, 'Drama, Fantasy, Horror': 144, 'Drama, Fantasy, Music': 145, 'Drama, Fantasy, Mystery': 146, 'Drama, Fantasy, Romance': 147, 'Drama, Fantasy, War': 148, 'Drama, Film-Noir': 149, 'Drama, Film-Noir, Mystery': 150, 'Drama, Film-Noir, Romance': 151, 'Drama, History': 152, 'Drama, History, Music': 153, 'Drama, History, Mystery': 154, 'Drama, History, Romance': 155, 'Drama, History, Thriller': 156, 'Drama, History, War': 157, 'Drama, Horror': 158, 'Drama, Horror, Mystery': 159, 'Drama, Horror, Sci-Fi': 160, 'Drama, Horror, Thriller': 161, 'Drama, Music': 162, 'Drama, Music, Musical': 163, 'Drama, Music, Mystery': 164, 'Drama, Music, Romance': 165, 'Drama, Musical': 166, 'Drama, Mystery': 167, 'Drama, Mystery, Romance': 168, 'Drama, Mystery, Sci-Fi': 169, 'Drama, Mystery, Thriller': 170, 'Drama, Mystery, War': 171, 'Drama, Romance': 172, 'Drama, Romance, Sci-Fi': 173, 'Drama, Romance, Thriller': 174, 'Drama, Romance, War': 175, 'Drama, Sci-Fi': 176, 'Drama, Sci-Fi, Thriller': 177, 'Drama, Sport': 178, 'Drama, Thriller': 179, 'Drama, Thriller, War': 180, 'Drama, Thriller, Western': 181, 'Drama, War': 182, 'Drama, War, Western': 183, 'Drama, Western': 184, 'Family, Fantasy, Musical': 185, 'Family, Sci-Fi': 186, 'Fantasy, Horror': 187, 'Fantasy, Horror, Mystery': 188, 'Film-Noir, Mystery': 189, 'Film-Noir, Mystery, Thriller': 190, 'Film-Noir, Thriller': 191, 'Horror': 192, 'Horror, Mystery, Sci-Fi': 193, 'Horror, Mystery, Thriller': 194, 'Horror, Sci-Fi': 195, 'Horror, Thriller': 196, 'Mystery, Romance, Thriller': 197, 'Mystery, Sci-Fi, Thriller': 198, 'Mystery, Thriller': 199, 'Thriller': 200, 'Western': 201}\n"
     ]
    }
   ],
   "source": [
    "print(\"Genre Mapping:\", genre_mapping)"
   ]
  },
  {
   "cell_type": "code",
   "execution_count": 97,
   "id": "16716651",
   "metadata": {},
   "outputs": [],
   "source": [
    "#spllit the data set "
   ]
  },
  {
   "cell_type": "code",
   "execution_count": 98,
   "id": "7c29dc74",
   "metadata": {},
   "outputs": [],
   "source": [
    "X = data[['IMDB_Rating' ,'Runtime' ]]\n",
    "y = data['Genre'].values\n"
   ]
  },
  {
   "cell_type": "code",
   "execution_count": 99,
   "id": "aaa403fb",
   "metadata": {},
   "outputs": [],
   "source": [
    "X_train,X_test , y_train , y_test = train_test_split(X , y , test_size=0.2, random_state = 42)"
   ]
  },
  {
   "cell_type": "code",
   "execution_count": 100,
   "id": "bae1377a",
   "metadata": {},
   "outputs": [],
   "source": [
    "#feature Scaling "
   ]
  },
  {
   "cell_type": "code",
   "execution_count": 101,
   "id": "2840e2e5",
   "metadata": {},
   "outputs": [],
   "source": [
    "scaler = StandardScaler()"
   ]
  },
  {
   "cell_type": "code",
   "execution_count": 102,
   "id": "74028fba",
   "metadata": {},
   "outputs": [],
   "source": [
    "X_train = scaler.fit_transform(X_train)\n",
    "X_test = scaler.transform(X_test)"
   ]
  },
  {
   "cell_type": "code",
   "execution_count": 103,
   "id": "bf7205c4",
   "metadata": {},
   "outputs": [
    {
     "data": {
      "text/html": [
       "<style>#sk-container-id-1 {color: black;background-color: white;}#sk-container-id-1 pre{padding: 0;}#sk-container-id-1 div.sk-toggleable {background-color: white;}#sk-container-id-1 label.sk-toggleable__label {cursor: pointer;display: block;width: 100%;margin-bottom: 0;padding: 0.3em;box-sizing: border-box;text-align: center;}#sk-container-id-1 label.sk-toggleable__label-arrow:before {content: \"▸\";float: left;margin-right: 0.25em;color: #696969;}#sk-container-id-1 label.sk-toggleable__label-arrow:hover:before {color: black;}#sk-container-id-1 div.sk-estimator:hover label.sk-toggleable__label-arrow:before {color: black;}#sk-container-id-1 div.sk-toggleable__content {max-height: 0;max-width: 0;overflow: hidden;text-align: left;background-color: #f0f8ff;}#sk-container-id-1 div.sk-toggleable__content pre {margin: 0.2em;color: black;border-radius: 0.25em;background-color: #f0f8ff;}#sk-container-id-1 input.sk-toggleable__control:checked~div.sk-toggleable__content {max-height: 200px;max-width: 100%;overflow: auto;}#sk-container-id-1 input.sk-toggleable__control:checked~label.sk-toggleable__label-arrow:before {content: \"▾\";}#sk-container-id-1 div.sk-estimator input.sk-toggleable__control:checked~label.sk-toggleable__label {background-color: #d4ebff;}#sk-container-id-1 div.sk-label input.sk-toggleable__control:checked~label.sk-toggleable__label {background-color: #d4ebff;}#sk-container-id-1 input.sk-hidden--visually {border: 0;clip: rect(1px 1px 1px 1px);clip: rect(1px, 1px, 1px, 1px);height: 1px;margin: -1px;overflow: hidden;padding: 0;position: absolute;width: 1px;}#sk-container-id-1 div.sk-estimator {font-family: monospace;background-color: #f0f8ff;border: 1px dotted black;border-radius: 0.25em;box-sizing: border-box;margin-bottom: 0.5em;}#sk-container-id-1 div.sk-estimator:hover {background-color: #d4ebff;}#sk-container-id-1 div.sk-parallel-item::after {content: \"\";width: 100%;border-bottom: 1px solid gray;flex-grow: 1;}#sk-container-id-1 div.sk-label:hover label.sk-toggleable__label {background-color: #d4ebff;}#sk-container-id-1 div.sk-serial::before {content: \"\";position: absolute;border-left: 1px solid gray;box-sizing: border-box;top: 0;bottom: 0;left: 50%;z-index: 0;}#sk-container-id-1 div.sk-serial {display: flex;flex-direction: column;align-items: center;background-color: white;padding-right: 0.2em;padding-left: 0.2em;position: relative;}#sk-container-id-1 div.sk-item {position: relative;z-index: 1;}#sk-container-id-1 div.sk-parallel {display: flex;align-items: stretch;justify-content: center;background-color: white;position: relative;}#sk-container-id-1 div.sk-item::before, #sk-container-id-1 div.sk-parallel-item::before {content: \"\";position: absolute;border-left: 1px solid gray;box-sizing: border-box;top: 0;bottom: 0;left: 50%;z-index: -1;}#sk-container-id-1 div.sk-parallel-item {display: flex;flex-direction: column;z-index: 1;position: relative;background-color: white;}#sk-container-id-1 div.sk-parallel-item:first-child::after {align-self: flex-end;width: 50%;}#sk-container-id-1 div.sk-parallel-item:last-child::after {align-self: flex-start;width: 50%;}#sk-container-id-1 div.sk-parallel-item:only-child::after {width: 0;}#sk-container-id-1 div.sk-dashed-wrapped {border: 1px dashed gray;margin: 0 0.4em 0.5em 0.4em;box-sizing: border-box;padding-bottom: 0.4em;background-color: white;}#sk-container-id-1 div.sk-label label {font-family: monospace;font-weight: bold;display: inline-block;line-height: 1.2em;}#sk-container-id-1 div.sk-label-container {text-align: center;}#sk-container-id-1 div.sk-container {/* jupyter's `normalize.less` sets `[hidden] { display: none; }` but bootstrap.min.css set `[hidden] { display: none !important; }` so we also need the `!important` here to be able to override the default hidden behavior on the sphinx rendered scikit-learn.org. See: https://github.com/scikit-learn/scikit-learn/issues/21755 */display: inline-block !important;position: relative;}#sk-container-id-1 div.sk-text-repr-fallback {display: none;}</style><div id=\"sk-container-id-1\" class=\"sk-top-container\"><div class=\"sk-text-repr-fallback\"><pre>KNeighborsClassifier(n_neighbors=3)</pre><b>In a Jupyter environment, please rerun this cell to show the HTML representation or trust the notebook. <br />On GitHub, the HTML representation is unable to render, please try loading this page with nbviewer.org.</b></div><div class=\"sk-container\" hidden><div class=\"sk-item\"><div class=\"sk-estimator sk-toggleable\"><input class=\"sk-toggleable__control sk-hidden--visually\" id=\"sk-estimator-id-1\" type=\"checkbox\" checked><label for=\"sk-estimator-id-1\" class=\"sk-toggleable__label sk-toggleable__label-arrow\">KNeighborsClassifier</label><div class=\"sk-toggleable__content\"><pre>KNeighborsClassifier(n_neighbors=3)</pre></div></div></div></div></div>"
      ],
      "text/plain": [
       "KNeighborsClassifier(n_neighbors=3)"
      ]
     },
     "execution_count": 103,
     "metadata": {},
     "output_type": "execute_result"
    }
   ],
   "source": [
    "knn = KNeighborsClassifier(n_neighbors=3)\n",
    "knn.fit(X_train, y_train)\n"
   ]
  },
  {
   "cell_type": "code",
   "execution_count": 104,
   "id": "a4a59155",
   "metadata": {},
   "outputs": [],
   "source": [
    "y_pred = knn.predict(X_test)"
   ]
  },
  {
   "cell_type": "code",
   "execution_count": 106,
   "id": "de40d31d",
   "metadata": {},
   "outputs": [
    {
     "name": "stdout",
     "output_type": "stream",
     "text": [
      "Accuracy: 2.50%\n",
      "Classification Report:\n"
     ]
    }
   ],
   "source": [
    "print(f\"Accuracy: {accuracy_score(y_test, y_pred) * 100:.2f}%\")\n",
    "print(\"Classification Report:\")"
   ]
  },
  {
   "cell_type": "code",
   "execution_count": 107,
   "id": "95b253ff",
   "metadata": {},
   "outputs": [],
   "source": [
    "y_pred = knn.predict([[7.5, 120]])"
   ]
  },
  {
   "cell_type": "code",
   "execution_count": 108,
   "id": "d5b3773c",
   "metadata": {},
   "outputs": [
    {
     "data": {
      "text/plain": [
       "array([17])"
      ]
     },
     "execution_count": 108,
     "metadata": {},
     "output_type": "execute_result"
    }
   ],
   "source": [
    "y_pred"
   ]
  },
  {
   "cell_type": "code",
   "execution_count": null,
   "id": "64e7b6eb",
   "metadata": {},
   "outputs": [],
   "source": [
    "## hence it predict the movie is action movie in this "
   ]
  }
 ],
 "metadata": {
  "kernelspec": {
   "display_name": "Python 3 (ipykernel)",
   "language": "python",
   "name": "python3"
  },
  "language_info": {
   "codemirror_mode": {
    "name": "ipython",
    "version": 3
   },
   "file_extension": ".py",
   "mimetype": "text/x-python",
   "name": "python",
   "nbconvert_exporter": "python",
   "pygments_lexer": "ipython3",
   "version": "3.10.9"
  }
 },
 "nbformat": 4,
 "nbformat_minor": 5
}
